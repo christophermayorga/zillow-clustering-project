{
 "cells": [
  {
   "cell_type": "markdown",
   "metadata": {},
   "source": [
    "# Predicting Log Error of the Zestimate®\n"
   ]
  },
  {
   "cell_type": "markdown",
   "metadata": {},
   "source": [
    "## Author:\n",
    "Christopher Mayorga, Jr. Data Scientist\n",
    "christopher.mayorga2@gmail.com\n",
    "\n",
    "## Date:\n",
    "June 21, 2021\n",
    "\n",
    "## Project Goals:\n",
    "Create insight for the current Zillow Zestimate model by predicting the model's log error.\n",
    "\n",
    "## Conclusions:\n",
    "Did not find linear correlations of features with respect to Log Error.\n",
    "Final Model performs well, but not better than the baseline.\n",
    "Tried Linear Regression and Polynomial Linear Regression models, are there other models that can be used? Other features?"
   ]
  },
  {
   "cell_type": "markdown",
   "metadata": {},
   "source": [
    "# Table of Contents:\n",
    "*Acquire* - Use acquire module to assign the data to a variable\n",
    "\n",
    "*Prepare* - Use prepare module to clean the data\n",
    "\n",
    "*Explore* - Highlight key takeaways from explore\n",
    "\n",
    "*Modeling* - Creating 4 models to predict log error and determining the best performing one\n",
    "\n",
    "*Conclusions - Reasons for log error, best model to predict log error*\n",
    "\n"
   ]
  },
  {
   "cell_type": "markdown",
   "metadata": {},
   "source": [
    "# Acquire\n",
    "- If you would like to see the data before prep, run acquire function\n",
    "- However, this function is also within the Prepare.py module\n",
    "calling the Prepare.prepare_zillow() function will use Acquire to obtain the data and prep in one function\n",
    "- The query in Acquire joins the predictions_2017 and properties_2017 tables, and selects only single-unit properties"
   ]
  },
  {
   "cell_type": "code",
   "execution_count": 1,
   "metadata": {},
   "outputs": [],
   "source": [
    "# Acquire.py holds functions to connect to sql database, and return a df with data selected with query\n",
    "import Acquire\n",
    "\n",
    "import warnings\n",
    "warnings.filterwarnings('ignore')"
   ]
  },
  {
   "cell_type": "code",
   "execution_count": 2,
   "metadata": {},
   "outputs": [],
   "source": [
    "raw_df = Acquire.get_home_data()"
   ]
  },
  {
   "cell_type": "markdown",
   "metadata": {},
   "source": [
    "## The original data has 61 columns and 70,364 rows. There is also more that 50% of nulls in many columns."
   ]
  },
  {
   "cell_type": "code",
   "execution_count": 3,
   "metadata": {},
   "outputs": [
    {
     "data": {
      "text/plain": [
       "(70364, 61)"
      ]
     },
     "execution_count": 3,
     "metadata": {},
     "output_type": "execute_result"
    }
   ],
   "source": [
    "raw_df.shape"
   ]
  },
  {
   "cell_type": "code",
   "execution_count": 4,
   "metadata": {},
   "outputs": [
    {
     "data": {
      "text/plain": [
       "id                              0\n",
       "parcelid                        0\n",
       "airconditioningtypeid       50658\n",
       "architecturalstyletypeid    70213\n",
       "basementsqft                70320\n",
       "                            ...  \n",
       "taxdelinquencyflag          69043\n",
       "taxdelinquencyyear          69043\n",
       "censustractandblock          1590\n",
       "logerror                        0\n",
       "transactiondate                 0\n",
       "Length: 61, dtype: int64"
      ]
     },
     "execution_count": 4,
     "metadata": {},
     "output_type": "execute_result"
    }
   ],
   "source": [
    "raw_df.isnull().sum()"
   ]
  },
  {
   "cell_type": "code",
   "execution_count": 5,
   "metadata": {},
   "outputs": [
    {
     "name": "stdout",
     "output_type": "stream",
     "text": [
      "Max tax amount: 1824154.85\n"
     ]
    },
    {
     "data": {
      "image/png": "[encoded data removed]",
      "text/plain": [
       "<Figure size 792x432 with 1 Axes>"
      ]
     },
     "metadata": {
      "needs_background": "light"
     },
     "output_type": "display_data"
    }
   ],
   "source": [
    "import matplotlib.pyplot as plt\n",
    "import seaborn as sns\n",
    "# An Example of One Feature Before Removing Outliers\n",
    "\n",
    "# Plotting histogram of Tax Amount\n",
    "plt.figure(figsize=(11,6))\n",
    "sns.histplot(raw_df.taxamount)\n",
    "plt.title('Distribution of Tax Amount')\n",
    "\n",
    "# Checking the maximum value of the feature\n",
    "print('Max tax amount:', raw_df.taxamount.max())\n"
   ]
  },
  {
   "cell_type": "markdown",
   "metadata": {},
   "source": [
    "# Acquire Takeaways\n",
    "- large amount of nulls\n",
    "- outliers present\n",
    "- new features can be created\n",
    "- columns need to be renamed, rearranged"
   ]
  },
  {
   "cell_type": "markdown",
   "metadata": {},
   "source": [
    "# Prepare \n",
    "Within the prepare function:\n",
    "\n",
    "- columns and rows with more than %25 of nulls are removed\n",
    "- uneccessary columns are removed (such as multiple sqft)\n",
    "- outliers in continuous variables are removed\n",
    "- leftover nulls are filled with mean or mode\n",
    "- features for property age and transaction month are created\n",
    "- columns are renamed and rearranged\n"
   ]
  },
  {
   "cell_type": "markdown",
   "metadata": {},
   "source": [
    "## Prepare.py also splits the data into train, validate, test"
   ]
  },
  {
   "cell_type": "markdown",
   "metadata": {},
   "source": [
    "70% Train, 20% Validate, 10% Test"
   ]
  },
  {
   "cell_type": "code",
   "execution_count": 6,
   "metadata": {},
   "outputs": [],
   "source": [
    "# Prepare.py holds the function to obtain the data, prep the data, and split into train, validate, test\n",
    "import Prepare"
   ]
  },
  {
   "cell_type": "code",
   "execution_count": 7,
   "metadata": {},
   "outputs": [
    {
     "name": "stdout",
     "output_type": "stream",
     "text": [
      "train shape:  (44284, 24) , validate shape:  (12491, 24) , test shape:  (6309, 24)\n",
      "\n",
      "train percent:  70.0 , validate percent:  20.0 , test percent:  10.0\n"
     ]
    }
   ],
   "source": [
    "# prepare_zillow function acquires the raw data, cleans, and splits the df, returning train, validate, split\n",
    "train, validate, test = Prepare.prepare_zillow()"
   ]
  },
  {
   "cell_type": "markdown",
   "metadata": {},
   "source": [
    "## The Split Data Frame After Prepare"
   ]
  },
  {
   "cell_type": "code",
   "execution_count": 8,
   "metadata": {},
   "outputs": [
    {
     "data": {
      "text/html": [
       "<div>\n",
       "<style scoped>\n",
       "    .dataframe tbody tr th:only-of-type {\n",
       "        vertical-align: middle;\n",
       "    }\n",
       "\n",
       "    .dataframe tbody tr th {\n",
       "        vertical-align: top;\n",
       "    }\n",
       "\n",
       "    .dataframe thead th {\n",
       "        text-align: right;\n",
       "    }\n",
       "</style>\n",
       "<table border=\"1\" class=\"dataframe\">\n",
       "  <thead>\n",
       "    <tr style=\"text-align: right;\">\n",
       "      <th></th>\n",
       "      <th>35177</th>\n",
       "    </tr>\n",
       "  </thead>\n",
       "  <tbody>\n",
       "    <tr>\n",
       "      <th>parcel_id</th>\n",
       "      <td>12881510</td>\n",
       "    </tr>\n",
       "    <tr>\n",
       "      <th>log_error</th>\n",
       "      <td>-0.080165</td>\n",
       "    </tr>\n",
       "    <tr>\n",
       "      <th>tax_value</th>\n",
       "      <td>114424</td>\n",
       "    </tr>\n",
       "    <tr>\n",
       "      <th>structure_tax_value</th>\n",
       "      <td>52011</td>\n",
       "    </tr>\n",
       "    <tr>\n",
       "      <th>land_tax_value</th>\n",
       "      <td>62413</td>\n",
       "    </tr>\n",
       "    <tr>\n",
       "      <th>tax_amount</th>\n",
       "      <td>1624.52</td>\n",
       "    </tr>\n",
       "    <tr>\n",
       "      <th>tax_rate</th>\n",
       "      <td>1.41974</td>\n",
       "    </tr>\n",
       "    <tr>\n",
       "      <th>county_id</th>\n",
       "      <td>6037</td>\n",
       "    </tr>\n",
       "    <tr>\n",
       "      <th>zip_code</th>\n",
       "      <td>96507</td>\n",
       "    </tr>\n",
       "    <tr>\n",
       "      <th>latitude</th>\n",
       "      <td>3.40614e+07</td>\n",
       "    </tr>\n",
       "    <tr>\n",
       "      <th>longitude</th>\n",
       "      <td>-1.17745e+08</td>\n",
       "    </tr>\n",
       "    <tr>\n",
       "      <th>census_id</th>\n",
       "      <td>6.03741e+13</td>\n",
       "    </tr>\n",
       "    <tr>\n",
       "      <th>bathrooms</th>\n",
       "      <td>1</td>\n",
       "    </tr>\n",
       "    <tr>\n",
       "      <th>bedrooms</th>\n",
       "      <td>3</td>\n",
       "    </tr>\n",
       "    <tr>\n",
       "      <th>full_bathrooms</th>\n",
       "      <td>1</td>\n",
       "    </tr>\n",
       "    <tr>\n",
       "      <th>bed_plus_bath</th>\n",
       "      <td>4</td>\n",
       "    </tr>\n",
       "    <tr>\n",
       "      <th>room_count</th>\n",
       "      <td>0</td>\n",
       "    </tr>\n",
       "    <tr>\n",
       "      <th>property_sqft</th>\n",
       "      <td>1198</td>\n",
       "    </tr>\n",
       "    <tr>\n",
       "      <th>lot_sqft</th>\n",
       "      <td>4384</td>\n",
       "    </tr>\n",
       "    <tr>\n",
       "      <th>land_use_type</th>\n",
       "      <td>261</td>\n",
       "    </tr>\n",
       "    <tr>\n",
       "      <th>year_built</th>\n",
       "      <td>1920</td>\n",
       "    </tr>\n",
       "    <tr>\n",
       "      <th>property_age</th>\n",
       "      <td>100</td>\n",
       "    </tr>\n",
       "    <tr>\n",
       "      <th>transaction_date</th>\n",
       "      <td>2017-05-23</td>\n",
       "    </tr>\n",
       "    <tr>\n",
       "      <th>transaction_month</th>\n",
       "      <td>5</td>\n",
       "    </tr>\n",
       "  </tbody>\n",
       "</table>\n",
       "</div>"
      ],
      "text/plain": [
       "                           35177\n",
       "parcel_id               12881510\n",
       "log_error              -0.080165\n",
       "tax_value                 114424\n",
       "structure_tax_value        52011\n",
       "land_tax_value             62413\n",
       "tax_amount               1624.52\n",
       "tax_rate                 1.41974\n",
       "county_id                   6037\n",
       "zip_code                   96507\n",
       "latitude             3.40614e+07\n",
       "longitude           -1.17745e+08\n",
       "census_id            6.03741e+13\n",
       "bathrooms                      1\n",
       "bedrooms                       3\n",
       "full_bathrooms                 1\n",
       "bed_plus_bath                  4\n",
       "room_count                     0\n",
       "property_sqft               1198\n",
       "lot_sqft                    4384\n",
       "land_use_type                261\n",
       "year_built                  1920\n",
       "property_age                 100\n",
       "transaction_date      2017-05-23\n",
       "transaction_month              5"
      ]
     },
     "execution_count": 8,
     "metadata": {},
     "output_type": "execute_result"
    }
   ],
   "source": [
    "train.head(1).T"
   ]
  },
  {
   "cell_type": "markdown",
   "metadata": {},
   "source": [
    "**No nulls are left after using the prepare function**"
   ]
  },
  {
   "cell_type": "code",
   "execution_count": 9,
   "metadata": {},
   "outputs": [
    {
     "data": {
      "text/plain": [
       "parcel_id              0\n",
       "log_error              0\n",
       "tax_value              0\n",
       "structure_tax_value    0\n",
       "land_tax_value         0\n",
       "tax_amount             0\n",
       "tax_rate               0\n",
       "county_id              0\n",
       "zip_code               0\n",
       "latitude               0\n",
       "longitude              0\n",
       "census_id              0\n",
       "bathrooms              0\n",
       "bedrooms               0\n",
       "full_bathrooms         0\n",
       "bed_plus_bath          0\n",
       "room_count             0\n",
       "property_sqft          0\n",
       "lot_sqft               0\n",
       "land_use_type          0\n",
       "year_built             0\n",
       "property_age           0\n",
       "transaction_date       0\n",
       "transaction_month      0\n",
       "dtype: int64"
      ]
     },
     "execution_count": 9,
     "metadata": {},
     "output_type": "execute_result"
    }
   ],
   "source": [
    "train.isnull().sum()"
   ]
  },
  {
   "cell_type": "code",
   "execution_count": 10,
   "metadata": {},
   "outputs": [
    {
     "name": "stdout",
     "output_type": "stream",
     "text": [
      "Max tax amount of train: 342940.38\n"
     ]
    },
    {
     "data": {
      "image/png": "[encoded data removed]",
      "text/plain": [
       "<Figure size 792x432 with 1 Axes>"
      ]
     },
     "metadata": {
      "needs_background": "light"
     },
     "output_type": "display_data"
    }
   ],
   "source": [
    "# Same Feature from Acquire Plotted - After Prep and Split into Train\n",
    "\n",
    "# Plotting train Tax Amount\n",
    "plt.figure(figsize=(11,6))\n",
    "sns.histplot(train.tax_amount)\n",
    "plt.title('Distribution of Tax Amount of Train DF')\n",
    "\n",
    "# Checking the maximum value of the feature\n",
    "print('Max tax amount of train:', train.tax_amount.max())"
   ]
  },
  {
   "cell_type": "markdown",
   "metadata": {},
   "source": [
    "# Prepare Takeaways\n",
    "- Data has been cleaned as specified in Acquire\n",
    "- Data is split, but not scaled so we can explore\n",
    "- X and y dataframes have not been seperated yet\n",
    "- Will need to be scaled before creating clusters and modeling\n"
   ]
  },
  {
   "cell_type": "markdown",
   "metadata": {},
   "source": [
    "# Explore"
   ]
  },
  {
   "cell_type": "code",
   "execution_count": 11,
   "metadata": {},
   "outputs": [],
   "source": [
    "import pandas as pd\n",
    "import numpy as np\n",
    "import matplotlib.pyplot as plt\n",
    "import seaborn as sns"
   ]
  },
  {
   "cell_type": "markdown",
   "metadata": {},
   "source": [
    "Visualizing Independent Feature vs. Log Error in Tableau"
   ]
  },
  {
   "cell_type": "code",
   "execution_count": 13,
   "metadata": {},
   "outputs": [
    {
     "data": {
      "text/plain": [
       "0.016816923510281516"
      ]
     },
     "execution_count": 13,
     "metadata": {},
     "output_type": "execute_result"
    }
   ],
   "source": [
    "raw_df.logerror.mean()"
   ]
  },
  {
   "cell_type": "code",
   "execution_count": 14,
   "metadata": {},
   "outputs": [
    {
     "data": {
      "text/plain": [
       "-4.65542037764"
      ]
     },
     "execution_count": 14,
     "metadata": {},
     "output_type": "execute_result"
    }
   ],
   "source": [
    "raw_df.logerror.min()"
   ]
  },
  {
   "cell_type": "code",
   "execution_count": 15,
   "metadata": {},
   "outputs": [
    {
     "data": {
      "text/plain": [
       "5.2629986498"
      ]
     },
     "execution_count": 15,
     "metadata": {},
     "output_type": "execute_result"
    }
   ],
   "source": [
    "raw_df.logerror.max()"
   ]
  },
  {
   "cell_type": "code",
   "execution_count": null,
   "metadata": {},
   "outputs": [],
   "source": []
  }
 ],
 "metadata": {
  "kernelspec": {
   "display_name": "Python 3",
   "language": "python",
   "name": "python3"
  },
  "language_info": {
   "codemirror_mode": {
    "name": "ipython",
    "version": 3
   },
   "file_extension": ".py",
   "mimetype": "text/x-python",
   "name": "python",
   "nbconvert_exporter": "python",
   "pygments_lexer": "ipython3",
   "version": "3.8.5"
  }
 },
 "nbformat": 4,
 "nbformat_minor": 4
}
