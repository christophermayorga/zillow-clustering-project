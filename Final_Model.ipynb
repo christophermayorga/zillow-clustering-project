{
 "cells": [
  {
   "cell_type": "markdown",
   "metadata": {},
   "source": [
    "# Predicting Log Error of the Zestimate®\n"
   ]
  },
  {
   "cell_type": "markdown",
   "metadata": {},
   "source": [
    "## Author:\n",
    "Christopher Mayorga, Jr. Data Scientist\n",
    "christopher.mayorga2@gmail.com\n",
    "\n",
    "## Date:\n",
    "June 21, 2021\n",
    "\n",
    "## Project Goals:\n",
    "Create insight for the current Zillow Zestimate model by predicting the model's log error.\n",
    "\n",
    "## Conclusions:\n",
    "- Did not find linear correlations of features with respect to Log Error.\n",
    "- Final Model performs well, but not better than the baseline.\n",
    "- Tried Linear Regression and Polynomial Linear Regression models, are there other models that can be used? Other features?"
   ]
  },
  {
   "cell_type": "markdown",
   "metadata": {},
   "source": [
    "# Table of Contents:\n",
    "*Acquire* - Use acquire module to assign the data to a variable\n",
    "\n",
    "*Prepare* - Use prepare module to clean the data\n",
    "\n",
    "*Explore* - Highlight key takeaways from explore\n",
    "\n",
    "*Modeling* - Creating 4 models to predict log error and determining the best performing one\n",
    "\n",
    "*Conclusions* - Reasons for log error, best model to predict log error*\n",
    "\n"
   ]
  },
  {
   "cell_type": "markdown",
   "metadata": {},
   "source": [
    "# Acquire\n",
    "- If you would like to see the data before prep, run acquire function\n",
    "- However, this function is also within the Prepare.py module\n",
    "calling the Prepare.prepare_zillow() function will use Acquire to obtain the data and prep in one function\n",
    "- The query in Acquire joins the predictions_2017 and properties_2017 tables, and selects only single-unit properties"
   ]
  },
  {
   "cell_type": "code",
   "execution_count": 1,
   "metadata": {},
   "outputs": [],
   "source": [
    "# Acquire.py holds functions to connect to sql database, and return a df with data selected with query\n",
    "import Acquire\n",
    "\n",
    "import warnings\n",
    "warnings.filterwarnings('ignore')"
   ]
  },
  {
   "cell_type": "code",
   "execution_count": 2,
   "metadata": {},
   "outputs": [],
   "source": [
    "raw_df = Acquire.get_home_data()"
   ]
  },
  {
   "cell_type": "markdown",
   "metadata": {},
   "source": [
    "## The original data has 61 columns and 70,364 rows. There is also more that 50% of nulls in many columns."
   ]
  },
  {
   "cell_type": "code",
   "execution_count": 3,
   "metadata": {},
   "outputs": [
    {
     "data": {
      "text/plain": [
       "(70364, 61)"
      ]
     },
     "execution_count": 3,
     "metadata": {},
     "output_type": "execute_result"
    }
   ],
   "source": [
    "raw_df.shape"
   ]
  },
  {
   "cell_type": "code",
   "execution_count": 4,
   "metadata": {},
   "outputs": [
    {
     "data": {
      "text/plain": [
       "id                              0\n",
       "parcelid                        0\n",
       "airconditioningtypeid       50658\n",
       "architecturalstyletypeid    70213\n",
       "basementsqft                70320\n",
       "                            ...  \n",
       "taxdelinquencyflag          69043\n",
       "taxdelinquencyyear          69043\n",
       "censustractandblock          1590\n",
       "logerror                        0\n",
       "transactiondate                 0\n",
       "Length: 61, dtype: int64"
      ]
     },
     "execution_count": 4,
     "metadata": {},
     "output_type": "execute_result"
    }
   ],
   "source": [
    "raw_df.isnull().sum()"
   ]
  },
  {
   "cell_type": "code",
   "execution_count": 5,
   "metadata": {},
   "outputs": [
    {
     "name": "stdout",
     "output_type": "stream",
     "text": [
      "Max tax amount: 1824154.85\n"
     ]
    },
    {
     "data": {
      "image/png": "[encoded data removed]",
      "text/plain": [
       "<Figure size 792x432 with 1 Axes>"
      ]
     },
     "metadata": {
      "needs_background": "light"
     },
     "output_type": "display_data"
    }
   ],
   "source": [
    "import matplotlib.pyplot as plt\n",
    "import seaborn as sns\n",
    "# An Example of One Feature Before Removing Outliers\n",
    "\n",
    "# Plotting histogram of Tax Amount\n",
    "plt.figure(figsize=(11,6))\n",
    "sns.histplot(raw_df.taxamount)\n",
    "plt.title('Distribution of Tax Amount')\n",
    "\n",
    "# Checking the maximum value of the feature\n",
    "print('Max tax amount:', raw_df.taxamount.max())\n"
   ]
  },
  {
   "cell_type": "markdown",
   "metadata": {},
   "source": [
    "# Acquire Takeaways\n",
    "- large amount of nulls\n",
    "- outliers present\n",
    "- new features can be created\n",
    "- columns need to be renamed, rearranged"
   ]
  },
  {
   "cell_type": "markdown",
   "metadata": {},
   "source": [
    "# Prepare \n",
    "Within the prepare function:\n",
    "\n",
    "- columns and rows with more than %25 of nulls are removed\n",
    "- uneccessary columns are removed (such as multiple sqft)\n",
    "- outliers in continuous variables are removed\n",
    "- leftover nulls are filled with mean or mode\n",
    "- features for property age and transaction month are created\n",
    "- columns are renamed and rearranged\n"
   ]
  },
  {
   "cell_type": "markdown",
   "metadata": {},
   "source": [
    "## Prepare.py also splits the data into train, validate, test"
   ]
  },
  {
   "cell_type": "markdown",
   "metadata": {},
   "source": [
    "70% Train, 20% Validate, 10% Test"
   ]
  },
  {
   "cell_type": "code",
   "execution_count": 6,
   "metadata": {},
   "outputs": [],
   "source": [
    "# Prepare.py holds the function to obtain the data, prep the data, and split into train, validate, test\n",
    "import Prepare"
   ]
  },
  {
   "cell_type": "code",
   "execution_count": 7,
   "metadata": {},
   "outputs": [
    {
     "name": "stdout",
     "output_type": "stream",
     "text": [
      "train shape:  (44284, 24) , validate shape:  (12491, 24) , test shape:  (6309, 24)\n",
      "\n",
      "train percent:  70.0 , validate percent:  20.0 , test percent:  10.0\n"
     ]
    }
   ],
   "source": [
    "# prepare_zillow function acquires the raw data, cleans, and splits the df, returning train, validate, split\n",
    "train, validate, test = Prepare.prepare_zillow()"
   ]
  },
  {
   "cell_type": "markdown",
   "metadata": {},
   "source": [
    "## The Split Data Frame After Prepare"
   ]
  },
  {
   "cell_type": "code",
   "execution_count": 8,
   "metadata": {},
   "outputs": [
    {
     "data": {
      "text/html": [
       "<div>\n",
       "<style scoped>\n",
       "    .dataframe tbody tr th:only-of-type {\n",
       "        vertical-align: middle;\n",
       "    }\n",
       "\n",
       "    .dataframe tbody tr th {\n",
       "        vertical-align: top;\n",
       "    }\n",
       "\n",
       "    .dataframe thead th {\n",
       "        text-align: right;\n",
       "    }\n",
       "</style>\n",
       "<table border=\"1\" class=\"dataframe\">\n",
       "  <thead>\n",
       "    <tr style=\"text-align: right;\">\n",
       "      <th></th>\n",
       "      <th>35177</th>\n",
       "    </tr>\n",
       "  </thead>\n",
       "  <tbody>\n",
       "    <tr>\n",
       "      <th>parcel_id</th>\n",
       "      <td>12881510</td>\n",
       "    </tr>\n",
       "    <tr>\n",
       "      <th>log_error</th>\n",
       "      <td>-0.080165</td>\n",
       "    </tr>\n",
       "    <tr>\n",
       "      <th>tax_value</th>\n",
       "      <td>114424</td>\n",
       "    </tr>\n",
       "    <tr>\n",
       "      <th>structure_tax_value</th>\n",
       "      <td>52011</td>\n",
       "    </tr>\n",
       "    <tr>\n",
       "      <th>land_tax_value</th>\n",
       "      <td>62413</td>\n",
       "    </tr>\n",
       "    <tr>\n",
       "      <th>tax_amount</th>\n",
       "      <td>1624.52</td>\n",
       "    </tr>\n",
       "    <tr>\n",
       "      <th>tax_rate</th>\n",
       "      <td>1.41974</td>\n",
       "    </tr>\n",
       "    <tr>\n",
       "      <th>county_id</th>\n",
       "      <td>6037</td>\n",
       "    </tr>\n",
       "    <tr>\n",
       "      <th>zip_code</th>\n",
       "      <td>96507</td>\n",
       "    </tr>\n",
       "    <tr>\n",
       "      <th>latitude</th>\n",
       "      <td>3.40614e+07</td>\n",
       "    </tr>\n",
       "    <tr>\n",
       "      <th>longitude</th>\n",
       "      <td>-1.17745e+08</td>\n",
       "    </tr>\n",
       "    <tr>\n",
       "      <th>census_id</th>\n",
       "      <td>6.03741e+13</td>\n",
       "    </tr>\n",
       "    <tr>\n",
       "      <th>bathrooms</th>\n",
       "      <td>1</td>\n",
       "    </tr>\n",
       "    <tr>\n",
       "      <th>bedrooms</th>\n",
       "      <td>3</td>\n",
       "    </tr>\n",
       "    <tr>\n",
       "      <th>full_bathrooms</th>\n",
       "      <td>1</td>\n",
       "    </tr>\n",
       "    <tr>\n",
       "      <th>bed_plus_bath</th>\n",
       "      <td>4</td>\n",
       "    </tr>\n",
       "    <tr>\n",
       "      <th>room_count</th>\n",
       "      <td>0</td>\n",
       "    </tr>\n",
       "    <tr>\n",
       "      <th>property_sqft</th>\n",
       "      <td>1198</td>\n",
       "    </tr>\n",
       "    <tr>\n",
       "      <th>lot_sqft</th>\n",
       "      <td>4384</td>\n",
       "    </tr>\n",
       "    <tr>\n",
       "      <th>land_use_type</th>\n",
       "      <td>261</td>\n",
       "    </tr>\n",
       "    <tr>\n",
       "      <th>year_built</th>\n",
       "      <td>1920</td>\n",
       "    </tr>\n",
       "    <tr>\n",
       "      <th>property_age</th>\n",
       "      <td>100</td>\n",
       "    </tr>\n",
       "    <tr>\n",
       "      <th>transaction_date</th>\n",
       "      <td>2017-05-23</td>\n",
       "    </tr>\n",
       "    <tr>\n",
       "      <th>transaction_month</th>\n",
       "      <td>5</td>\n",
       "    </tr>\n",
       "  </tbody>\n",
       "</table>\n",
       "</div>"
      ],
      "text/plain": [
       "                           35177\n",
       "parcel_id               12881510\n",
       "log_error              -0.080165\n",
       "tax_value                 114424\n",
       "structure_tax_value        52011\n",
       "land_tax_value             62413\n",
       "tax_amount               1624.52\n",
       "tax_rate                 1.41974\n",
       "county_id                   6037\n",
       "zip_code                   96507\n",
       "latitude             3.40614e+07\n",
       "longitude           -1.17745e+08\n",
       "census_id            6.03741e+13\n",
       "bathrooms                      1\n",
       "bedrooms                       3\n",
       "full_bathrooms                 1\n",
       "bed_plus_bath                  4\n",
       "room_count                     0\n",
       "property_sqft               1198\n",
       "lot_sqft                    4384\n",
       "land_use_type                261\n",
       "year_built                  1920\n",
       "property_age                 100\n",
       "transaction_date      2017-05-23\n",
       "transaction_month              5"
      ]
     },
     "execution_count": 8,
     "metadata": {},
     "output_type": "execute_result"
    }
   ],
   "source": [
    "train.head(1).T"
   ]
  },
  {
   "cell_type": "markdown",
   "metadata": {},
   "source": [
    "**No nulls are left after using the prepare function**"
   ]
  },
  {
   "cell_type": "code",
   "execution_count": 9,
   "metadata": {},
   "outputs": [
    {
     "data": {
      "text/plain": [
       "parcel_id              0\n",
       "log_error              0\n",
       "tax_value              0\n",
       "structure_tax_value    0\n",
       "land_tax_value         0\n",
       "tax_amount             0\n",
       "tax_rate               0\n",
       "county_id              0\n",
       "zip_code               0\n",
       "latitude               0\n",
       "longitude              0\n",
       "census_id              0\n",
       "bathrooms              0\n",
       "bedrooms               0\n",
       "full_bathrooms         0\n",
       "bed_plus_bath          0\n",
       "room_count             0\n",
       "property_sqft          0\n",
       "lot_sqft               0\n",
       "land_use_type          0\n",
       "year_built             0\n",
       "property_age           0\n",
       "transaction_date       0\n",
       "transaction_month      0\n",
       "dtype: int64"
      ]
     },
     "execution_count": 9,
     "metadata": {},
     "output_type": "execute_result"
    }
   ],
   "source": [
    "train.isnull().sum()"
   ]
  },
  {
   "cell_type": "code",
   "execution_count": 10,
   "metadata": {},
   "outputs": [
    {
     "name": "stdout",
     "output_type": "stream",
     "text": [
      "Max tax amount of train: 342940.38\n"
     ]
    },
    {
     "data": {
      "image/png": "[encoded data removed]",
      "text/plain": [
       "<Figure size 792x432 with 1 Axes>"
      ]
     },
     "metadata": {
      "needs_background": "light"
     },
     "output_type": "display_data"
    }
   ],
   "source": [
    "# Same Feature from Acquire Plotted - After Prep and Split into Train\n",
    "\n",
    "# Plotting train Tax Amount\n",
    "plt.figure(figsize=(11,6))\n",
    "sns.histplot(train.tax_amount)\n",
    "plt.title('Distribution of Tax Amount of Train DF')\n",
    "\n",
    "# Checking the maximum value of the feature\n",
    "print('Max tax amount of train:', train.tax_amount.max())"
   ]
  },
  {
   "cell_type": "markdown",
   "metadata": {},
   "source": [
    "# Prepare Takeaways\n",
    "- Data has been cleaned as specified in Acquire\n",
    "- Data is split, but not scaled so we can explore\n",
    "- X and y dataframes have not been seperated yet\n",
    "- Will need to be scaled before creating clusters and modeling\n"
   ]
  },
  {
   "cell_type": "markdown",
   "metadata": {},
   "source": [
    "# Explore"
   ]
  },
  {
   "cell_type": "code",
   "execution_count": 11,
   "metadata": {},
   "outputs": [],
   "source": [
    "import pandas as pd\n",
    "import numpy as np\n",
    "import matplotlib.pyplot as plt\n",
    "import seaborn as sns"
   ]
  },
  {
   "cell_type": "markdown",
   "metadata": {},
   "source": [
    "## Visualizing Independent Feature vs. Log Error in Google Sheets\n",
    "Link: https://docs.google.com/spreadsheets/d/1L1pT1EfbaicnS8WmlqVL2XaCOFuH1y4mNfWc4Jpinh4/edit?usp=sharing"
   ]
  },
  {
   "cell_type": "code",
   "execution_count": 12,
   "metadata": {},
   "outputs": [],
   "source": [
    "# to use split data while exploring in Google Sheets\n",
    "# train.to_csv('zillow_train.csv')"
   ]
  },
  {
   "cell_type": "markdown",
   "metadata": {},
   "source": [
    "<img src=\"images/Property_Square Feet_vs Logerror.png\" alt=\"columns\" width=\"500\"/>"
   ]
  },
  {
   "cell_type": "markdown",
   "metadata": {},
   "source": [
    "Takeaway: Logerror is more spread out among properties with a lower square feet."
   ]
  },
  {
   "cell_type": "markdown",
   "metadata": {},
   "source": [
    "<img src=\"images/Avg_Logerror_vs._Month.png\" alt=\"columns\" width=\"500\"/>"
   ]
  },
  {
   "cell_type": "markdown",
   "metadata": {},
   "source": [
    "Takeaway: A polynomial model might be a good fit for average of logerror and transaction month."
   ]
  },
  {
   "cell_type": "markdown",
   "metadata": {},
   "source": [
    "<img src=\"images/Avg. Log Error by Year Built.png\" alt=\"columns\" width=\"500\"/>"
   ]
  },
  {
   "cell_type": "markdown",
   "metadata": {},
   "source": [
    "Takeaway: Logerror seems to increase around 1940 through 2000."
   ]
  },
  {
   "cell_type": "markdown",
   "metadata": {},
   "source": [
    "## Testing Features with Hypothesis Tests"
   ]
  },
  {
   "cell_type": "markdown",
   "metadata": {},
   "source": [
    "### Transaction Month\n",
    "- One-Sample, T-test for May vs. Population Mean\n",
    "- Reject Null hypothesis, significant difference found\n",
    "- p-value: .03\n",
    "\n",
    "### Sqft\n",
    "- Correlation test for Sqft vs. Log Error\n",
    "- Fail to Reject Null hypothesis, no linear correlation\n",
    "- p-value: 0.77\n",
    "\n",
    "### Year Built\n",
    "- Correlation test for Year built vs. Log Error\n",
    "- Fail to Reject Null hypothesis, no linear correlation\n",
    "- When controlled for popular years (1946-1990) p-value decreased\n",
    "- p-value from 0.45061 to 0.1091\n"
   ]
  },
  {
   "cell_type": "markdown",
   "metadata": {},
   "source": [
    "### Testing Transaction Month With Hypothesis Testing\n",
    "**One-Sample, One-Tailed T-test**\n",
    "Test transaction month 5 (May) against the population\n",
    "\n",
    "$H_O$: There is no significant difference between log error in May and all months.\n",
    "\n",
    "$H_A$: Log Error in May is significantly different than log error in all months.\n",
    "\n"
   ]
  },
  {
   "cell_type": "code",
   "execution_count": 15,
   "metadata": {},
   "outputs": [],
   "source": [
    "# import One-sample, t-test\n",
    "from scipy.stats import ttest_1samp\n",
    "\n",
    "# Transactions in 05 - May\n",
    "May_train = train[train.transaction_month == 5]\n",
    "\n",
    "# Population Average\n",
    "pop_mean = train.log_error.mean()"
   ]
  },
  {
   "cell_type": "code",
   "execution_count": 29,
   "metadata": {},
   "outputs": [],
   "source": [
    "from math import sqrt\n",
    "from scipy import stats\n",
    "\n",
    "alpha = 0.05\n",
    "\n",
    "# 1 sample t-test to compute t and p\n",
    "t, p = stats.ttest_1samp(May_train.log_error, pop_mean)\n"
   ]
  },
  {
   "cell_type": "code",
   "execution_count": 44,
   "metadata": {},
   "outputs": [
    {
     "name": "stdout",
     "output_type": "stream",
     "text": [
      "Transaction Month One-Sample, One-Tailed T-Test\n",
      "t-score:     -2.23\n",
      "p-value:      0.03\n",
      "Reject null hypothesis.\n"
     ]
    }
   ],
   "source": [
    "print('Transaction Month One-Sample, One-Tailed T-Test')\n",
    "print('t-score:    ',round(t,2))\n",
    "print('p-value:     ',round(p,2))\n",
    "print('Reject null hypothesis.')"
   ]
  },
  {
   "cell_type": "markdown",
   "metadata": {},
   "source": [
    "### Property Square Feet With Hypothesis Testing\n",
    "**Correlation Test**\n",
    "\n",
    "Testing correlation of Property Sqft and Log Error.\n",
    "\n",
    "$H_O$: There is no linear correlation between property sqft and log error.\n",
    "\n",
    "$H_A$: There is a linear correlation between property sqft and log error."
   ]
  },
  {
   "cell_type": "markdown",
   "metadata": {},
   "source": [
    "**Failed to reject null hypothesis.**"
   ]
  },
  {
   "cell_type": "code",
   "execution_count": 46,
   "metadata": {},
   "outputs": [],
   "source": [
    "# p-value must be lower than alpha to reject null hypothesis\n",
    "alpha = .05\n",
    "\n",
    "r, p = stats.pearsonr(train.property_sqft, train.log_error)"
   ]
  },
  {
   "cell_type": "code",
   "execution_count": 47,
   "metadata": {},
   "outputs": [
    {
     "name": "stdout",
     "output_type": "stream",
     "text": [
      "Correlation Test on SQFT Built\n",
      "     p-value: 0.72977\n",
      "     r-value: 0.00164\n",
      "Fail to reject null hypothesis.\n",
      "Low r suggests might have non-linear correlation.\n",
      "\n",
      "\n"
     ]
    }
   ],
   "source": [
    "print('Correlation Test on SQFT Built')\n",
    "print('     p-value:',round(p,5))\n",
    "print('     r-value:',round(r,5))\n",
    "print('Fail to reject null hypothesis.')\n",
    "print('Low r suggests might have non-linear correlation.\\n\\n')"
   ]
  },
  {
   "cell_type": "markdown",
   "metadata": {},
   "source": [
    "### Year Built with Hypothesis Testing"
   ]
  },
  {
   "cell_type": "markdown",
   "metadata": {},
   "source": [
    "**Correlation Test**\n",
    "\n",
    "Testing correlation of year built with all observations\n",
    "\n",
    "$H_O$: There is no linear correlation between year built and log error.\n",
    "\n",
    "$H_A$: There is a linear correlation between year built and log error.\n",
    "\n",
    "**Failed to reject null hypothesis**"
   ]
  },
  {
   "cell_type": "code",
   "execution_count": 48,
   "metadata": {},
   "outputs": [],
   "source": [
    "# import correlation test\n",
    "from scipy.stats import pearsonr\n",
    "\n",
    "# p-value must be lower than alpha to reject null hypothesis\n",
    "alpha = .05\n",
    "\n",
    "r, p = stats.pearsonr(train.year_built, train.log_error)"
   ]
  },
  {
   "cell_type": "code",
   "execution_count": 49,
   "metadata": {},
   "outputs": [
    {
     "name": "stdout",
     "output_type": "stream",
     "text": [
      "Correlation Test on All Year Built\n",
      "     p-value: 0.45061\n",
      "     r-value: -0.00359\n",
      "Fail to reject null hypothesis.\n",
      "Low r suggests might have non-linear correlation.\n",
      "\n",
      "\n"
     ]
    }
   ],
   "source": [
    "print('Correlation Test on All Year Built')\n",
    "print('     p-value:',round(p,5))\n",
    "print('     r-value:',round(r,5))\n",
    "print('Fail to reject null hypothesis.')\n",
    "print('Low r suggests might have non-linear correlation.\\n\\n')"
   ]
  },
  {
   "cell_type": "markdown",
   "metadata": {},
   "source": [
    "### Year Built with Hypothesis Testing\n",
    "\n",
    "**Correlation Test**\n",
    "\n",
    "Testing correlation of year built from years with high observations (1946 - 1990)\n",
    "\n",
    "$H_O$: There is no linear correlation between year built and log error.\n",
    "\n",
    "$H_A$: There is a linear correlation between year built and log error.\n",
    "\n",
    "**Failed to reject null hypothesis**"
   ]
  },
  {
   "cell_type": "code",
   "execution_count": 50,
   "metadata": {},
   "outputs": [],
   "source": [
    "# properties with year built between 1946 and 1990)\n",
    "years_46_90 = train[(train.year_built > 1946) & (train.year_built < 1990)]\n",
    "\n",
    "r2, p2 = stats.pearsonr(years_46_90.year_built, years_46_90.log_error)"
   ]
  },
  {
   "cell_type": "code",
   "execution_count": 51,
   "metadata": {},
   "outputs": [
    {
     "name": "stdout",
     "output_type": "stream",
     "text": [
      "Correlation Test on Year Built (1946-1990)\n",
      "     p-value: 0.1091\n",
      "     r-value: -0.00909\n",
      "Fail to reject null hypothesis.\n",
      "Low r suggests might have non-linear correlation.\n"
     ]
    }
   ],
   "source": [
    "print('Correlation Test on Year Built (1946-1990)')\n",
    "print('     p-value:',round(p2,5))\n",
    "print('     r-value:',round(r2,5))\n",
    "print('Fail to reject null hypothesis.')\n",
    "print('Low r suggests might have non-linear correlation.')"
   ]
  },
  {
   "cell_type": "markdown",
   "metadata": {},
   "source": [
    "## Visualizing Clusters in Google Sheets\n",
    "Link: https://docs.google.com/spreadsheets/d/1MOjXZUKZpPLdFcG_yGrMpEddmrrbB_GO258yovHT54E/edit?usp=sharing"
   ]
  },
  {
   "cell_type": "code",
   "execution_count": 55,
   "metadata": {},
   "outputs": [],
   "source": [
    "import Model\n",
    "# created clusters with unscaled data to visualize clusters in Tableau\n",
    "train, validate, test = Model.create_clusters(train, validate, test)\n",
    "\n",
    "#train.to_csv('zillow_clusters.csv')"
   ]
  },
  {
   "cell_type": "markdown",
   "metadata": {},
   "source": [
    "<img src=\"images/Tax Cluster.png\" alt=\"columns\" width=\"1000\"/>"
   ]
  },
  {
   "cell_type": "markdown",
   "metadata": {},
   "source": [
    "**Cluster created with KMeans on Tax Value, Tax Amount, and Tax Rate**"
   ]
  },
  {
   "cell_type": "markdown",
   "metadata": {},
   "source": [
    "<img src=\"images/Sqft Cluster.png\" alt=\"columns\" width=\"1000\"/>"
   ]
  },
  {
   "cell_type": "markdown",
   "metadata": {},
   "source": [
    "**Cluster created with KMeans on Property and Lot Sqft**"
   ]
  },
  {
   "cell_type": "markdown",
   "metadata": {},
   "source": [
    "<img src=\"images/Room Cluster.png\" alt=\"columns\" width=\"1000\"/>"
   ]
  },
  {
   "cell_type": "markdown",
   "metadata": {},
   "source": [
    "**Cluster created with KMeans on Bath+Bed Count, Full Bath Count, Room Count, and Property Age.**"
   ]
  },
  {
   "cell_type": "markdown",
   "metadata": {},
   "source": [
    "## Testing Clusters with Hypothesis Testing - ANOVA Test"
   ]
  },
  {
   "cell_type": "markdown",
   "metadata": {},
   "source": [
    "$H_O$: There is no signficant difference between the log error means of each cluster group.\n",
    "\n",
    "$H_A$: There is a signficant difference between the log error means of at least two cluster groups.\n",
    "\n",
    "### Tax Cluster\n",
    "- Fail to Reject Null Hypothesis\n",
    "- p-value of 0.7519\n",
    "\n",
    "### Sqft Cluster\n",
    "- Fail to Reject Null Hypothesis\n",
    "- p-value of 0.7735\n",
    "\n",
    "### Room/Age Cluster\n",
    "- Fail to Reject Null Hypothesis\n",
    "- p-value of 0.6641"
   ]
  },
  {
   "cell_type": "markdown",
   "metadata": {},
   "source": [
    "### Tax Cluster with Hypothesis Testing\n",
    "\n",
    "**ANOVA Test on Tax Cluster**\n",
    "\n",
    "$H_O$: There is no signficant difference between the log error means of each cluster.\n",
    "\n",
    "$H_A$: There is a signficant difference between the log error means of at least two clusters."
   ]
  },
  {
   "cell_type": "code",
   "execution_count": 76,
   "metadata": {},
   "outputs": [],
   "source": [
    "import scipy.stats as stats"
   ]
  },
  {
   "cell_type": "code",
   "execution_count": 78,
   "metadata": {},
   "outputs": [
    {
     "name": "stdout",
     "output_type": "stream",
     "text": [
      "We fail to reject the null hypothesis\n",
      "\n",
      "Anova Test Results on Tax Cluster\n",
      "F-value: 0.37\n",
      "P-value: 0.77\n"
     ]
    }
   ],
   "source": [
    "alpha = 0.05\n",
    "\n",
    "F, p = stats.f_oneway(train[train.cluster_tax == 0].log_error,\n",
    "                      train[train.cluster_tax == 1].log_error,\n",
    "                      train[train.cluster_tax == 2].log_error,\n",
    "                      train[train.cluster_tax == 3].log_error)\n",
    "\n",
    "if p < alpha:\n",
    "    print('We reject the null hypothesis\\n')\n",
    "else:\n",
    "    print('We fail to reject the null hypothesis\\n')\n",
    "\n",
    "print('Anova Test Results on Tax Cluster')\n",
    "print('F-value:',round(F,2))\n",
    "print('P-value:',round(p,2))"
   ]
  },
  {
   "cell_type": "markdown",
   "metadata": {},
   "source": [
    "### SQFT Cluster with Hypothesis Testing\n",
    "\n",
    "**ANOVA Test on SQFT Cluster**\n",
    "\n",
    "$H_O$: There is no signficant difference between the log error means of each cluster.\n",
    "\n",
    "$H_A$: There is a signficant difference between the log error means of at least two clusters."
   ]
  },
  {
   "cell_type": "code",
   "execution_count": 80,
   "metadata": {},
   "outputs": [
    {
     "name": "stdout",
     "output_type": "stream",
     "text": [
      "We fail to reject the null hypothesis\n",
      "\n",
      "Anova Test Results on SQFT Cluster\n",
      "F-value: 0.07\n",
      "P-value: 0.99\n"
     ]
    }
   ],
   "source": [
    "alpha = 0.05\n",
    "\n",
    "F, p = stats.f_oneway(train[train.cluster_sqft == 0].log_error,\n",
    "                      train[train.cluster_sqft == 1].log_error,\n",
    "                      train[train.cluster_sqft == 2].log_error,\n",
    "                      train[train.cluster_sqft == 3].log_error,\n",
    "                      train[train.cluster_sqft == 4].log_error)\n",
    "\n",
    "if p < alpha:\n",
    "    print('We reject the null hypothesis\\n')\n",
    "else:\n",
    "    print('We fail to reject the null hypothesis\\n')\n",
    "\n",
    "print('Anova Test Results on SQFT Cluster')\n",
    "print('F-value:',round(F,2))\n",
    "print('P-value:',round(p,2))"
   ]
  },
  {
   "cell_type": "markdown",
   "metadata": {},
   "source": [
    "### Room/Age Cluster with Hypothesis Testing\n",
    "\n",
    "**ANOVA Test on Room/Age Cluster**\n",
    "\n",
    "$H_O$: There is no signficant difference between the log error means of each cluster.\n",
    "\n",
    "$H_A$: There is a signficant difference between the log error means of at least two clusters."
   ]
  },
  {
   "cell_type": "code",
   "execution_count": 81,
   "metadata": {},
   "outputs": [
    {
     "name": "stdout",
     "output_type": "stream",
     "text": [
      "We fail to reject the null hypothesis\n",
      "\n",
      "Anova Test Results on Room/Age Cluster\n",
      "F-value: 0.8040076606304343\n",
      "P-value: 0.5223527311794829\n"
     ]
    }
   ],
   "source": [
    "alpha = 0.05\n",
    "\n",
    "F, p = stats.f_oneway(train[train.cluster_rooms == 0].log_error,\n",
    "                      train[train.cluster_rooms == 1].log_error,\n",
    "                      train[train.cluster_rooms == 2].log_error,\n",
    "                      train[train.cluster_rooms == 3].log_error,\n",
    "                      train[train.cluster_rooms == 4].log_error)\n",
    "\n",
    "if p < alpha:\n",
    "    print('We reject the null hypothesis\\n')\n",
    "else:\n",
    "    print('We fail to reject the null hypothesis\\n')\n",
    "\n",
    "print('Anova Test Results on Room/Age Cluster')\n",
    "print('F-value:',F)\n",
    "print('P-value:',p)"
   ]
  },
  {
   "cell_type": "markdown",
   "metadata": {},
   "source": [
    "# Explore Takeaways"
   ]
  },
  {
   "cell_type": "markdown",
   "metadata": {},
   "source": [
    "Features\n",
    "\n",
    "- Independent features explored did not have linear correlation\n",
    "- Visually can see non-linear correlation with transaction month\n",
    "\n",
    "Clusters\n",
    "\n",
    "- No clusters had significant difference within their groupings\n",
    "- Used Elbow method to select features, but some groupings still had very little observations - narrow down k\n",
    "- Further testing with different features is needed to determine if there are significant clusters"
   ]
  },
  {
   "cell_type": "markdown",
   "metadata": {},
   "source": [
    "# Modeling - Predicting Log Error"
   ]
  },
  {
   "cell_type": "code",
   "execution_count": 82,
   "metadata": {},
   "outputs": [],
   "source": [
    "# imports to calculate model metrics\n",
    "from sklearn.metrics import mean_squared_error, explained_variance_score"
   ]
  },
  {
   "cell_type": "code",
   "execution_count": 83,
   "metadata": {},
   "outputs": [],
   "source": [
    "# Scale data with prepare function - DROPS LOG ERROR\n",
    "train_scaled, validate_scaled, test_scaled = Prepare.scale_data(train, validate, test)"
   ]
  },
  {
   "cell_type": "code",
   "execution_count": 84,
   "metadata": {},
   "outputs": [],
   "source": [
    "# Add clusters\n",
    "train_scaled, validate_scaled, test_scaled = Model.create_clusters(train_scaled, validate_scaled, test_scaled)"
   ]
  },
  {
   "cell_type": "code",
   "execution_count": 85,
   "metadata": {},
   "outputs": [],
   "source": [
    "# split into X variables and y target\n",
    "\n",
    "# X is every column except log_error\n",
    "X_train = train_scaled\n",
    "# y is only log error, [[]] to keep as df and not series\n",
    "y_train = train[['log_error']]\n",
    "\n",
    "# repeat for validate and test\n",
    "X_validate = validate_scaled\n",
    "y_validate = validate[['log_error']]\n",
    "\n",
    "X_test = test_scaled\n",
    "y_test = test[['log_error']]"
   ]
  },
  {
   "cell_type": "markdown",
   "metadata": {},
   "source": [
    "## Baseline Model\n",
    "Will predict the same log error for each observation, either average, median, or mode"
   ]
  },
  {
   "cell_type": "code",
   "execution_count": 86,
   "metadata": {},
   "outputs": [
    {
     "name": "stdout",
     "output_type": "stream",
     "text": [
      "Log Error Stats\n",
      "\n",
      "average: 0.016236\n",
      "mode:    0.002652\n",
      "median:  0.006571\n"
     ]
    }
   ],
   "source": [
    "# printing stats to determine baseline\n",
    "print('Log Error Stats\\n')\n",
    "print('average:', round(train.log_error.mean(),6))\n",
    "print('mode:   ', round(train.log_error.mode()[0],6))\n",
    "print('median: ', round(train.log_error.median(),6))"
   ]
  },
  {
   "cell_type": "code",
   "execution_count": 88,
   "metadata": {},
   "outputs": [
    {
     "data": {
      "image/png": "[encoded data removed]",
      "text/plain": [
       "<Figure size 432x288 with 1 Axes>"
      ]
     },
     "metadata": {
      "needs_background": "light"
     },
     "output_type": "display_data"
    }
   ],
   "source": [
    "# distribution of log error, to help determine baseline along with stats\n",
    "plt.title('Log Error Histogram')\n",
    "plt.xlabel('Log Error')\n",
    "plt.ylabel('Count of Properties')\n",
    "sns.histplot(train.log_error)\n",
    "\n",
    "plt.show()"
   ]
  },
  {
   "cell_type": "markdown",
   "metadata": {},
   "source": [
    "### Log error is normally distributed, will create baseline as the average"
   ]
  },
  {
   "cell_type": "code",
   "execution_count": 90,
   "metadata": {},
   "outputs": [
    {
     "name": "stdout",
     "output_type": "stream",
     "text": [
      "The Baseline Mean Squared Error: 0.028\n",
      "The Baseline Root Mean Squared Error: 0.014\n"
     ]
    }
   ],
   "source": [
    "# setting baseline to average log_error\n",
    "baseline = train.log_error.mean()\n",
    "\n",
    "# calculating MSE with y_train (actual) and baseline (extended to same size as df)\n",
    "baseline_mse = mean_squared_error(y_train, np.full(y_train.shape, baseline))\n",
    "baseline_rmse = baseline_mse**1/2\n",
    "\n",
    "print('The Baseline Mean Squared Error:', round(baseline_mse,3))\n",
    "print('The Baseline Root Mean Squared Error:', round(baseline_rmse,3))"
   ]
  },
  {
   "cell_type": "markdown",
   "metadata": {},
   "source": [
    "## Creating Models on Train"
   ]
  },
  {
   "cell_type": "code",
   "execution_count": 91,
   "metadata": {},
   "outputs": [],
   "source": [
    "from sklearn.linear_model import LinearRegression\n",
    "from sklearn.linear_model import LassoLars\n",
    "from sklearn.preprocessing import PolynomialFeatures"
   ]
  },
  {
   "cell_type": "markdown",
   "metadata": {},
   "source": [
    "#### Model 1\n",
    "Using Linear Regression Model on All Features"
   ]
  },
  {
   "cell_type": "code",
   "execution_count": 92,
   "metadata": {},
   "outputs": [
    {
     "data": {
      "text/plain": [
       "0.16853065950623417"
      ]
     },
     "execution_count": 92,
     "metadata": {},
     "output_type": "execute_result"
    }
   ],
   "source": [
    "lm1 = LinearRegression()\n",
    "lm1.fit(X_train, y_train.log_error)\n",
    "y_hat = lm1.predict(X_train)\n",
    "\n",
    "y_train['lm_1'] = y_hat\n",
    "\n",
    "mean_squared_error(y_train.log_error, y_hat)**(1/2)"
   ]
  },
  {
   "cell_type": "markdown",
   "metadata": {},
   "source": [
    "### Using SelectKBest to Determine Features with Highest Linear Correlation to Log Error¶"
   ]
  },
  {
   "cell_type": "code",
   "execution_count": 93,
   "metadata": {},
   "outputs": [],
   "source": [
    "from sklearn.linear_model import LinearRegression\n",
    "from sklearn.feature_selection import RFE\n",
    "\n",
    "# initialize the ML algorithm\n",
    "lm = LinearRegression()\n",
    "\n",
    "# create the rfe object, indicating the ML object (lm) and the number of features to select\n",
    "rfe = RFE(lm, 9)\n",
    "\n",
    "# fit the data using RFE\n",
    "rfe.fit(X_train,y_train.log_error)  \n",
    "\n",
    "# get the mask of the columns selected\n",
    "feature_mask = rfe.support_\n",
    "\n",
    "# get list of the column names. \n",
    "rfe_feature = X_train.iloc[:,feature_mask].columns.tolist()"
   ]
  },
  {
   "cell_type": "code",
   "execution_count": 94,
   "metadata": {},
   "outputs": [
    {
     "name": "stdout",
     "output_type": "stream",
     "text": [
      "SelectKBest Top 9 Features:\n"
     ]
    },
    {
     "data": {
      "text/plain": [
       "['tax_value',\n",
       " 'land_tax_value',\n",
       " 'tax_amount',\n",
       " 'bathrooms',\n",
       " 'bedrooms',\n",
       " 'full_bathrooms',\n",
       " 'bed_plus_bath',\n",
       " 'property_sqft',\n",
       " 'property_age']"
      ]
     },
     "execution_count": 94,
     "metadata": {},
     "output_type": "execute_result"
    }
   ],
   "source": [
    "# Features elected by SelectKBest\n",
    "print('SelectKBest Top 9 Features:')\n",
    "rfe_feature"
   ]
  },
  {
   "cell_type": "markdown",
   "metadata": {},
   "source": [
    "#### Model 2\n",
    "Use Linear Regression with Features from SelectKBest"
   ]
  },
  {
   "cell_type": "code",
   "execution_count": 95,
   "metadata": {},
   "outputs": [
    {
     "data": {
      "text/plain": [
       "0.16854030710302584"
      ]
     },
     "execution_count": 95,
     "metadata": {},
     "output_type": "execute_result"
    }
   ],
   "source": [
    "X_train_2 = train_scaled[['tax_value','land_tax_value','tax_amount','bathrooms',\n",
    "                          'bedrooms','full_bathrooms','bed_plus_bath',\n",
    "                          'property_sqft','year_built']]\n",
    "\n",
    "lm2 = LinearRegression()\n",
    "lm2.fit(X_train_2, y_train.log_error)\n",
    "y_hat = lm2.predict(X_train_2)\n",
    "\n",
    "y_train['lm_2'] = y_hat\n",
    "\n",
    "mean_squared_error(y_train.log_error, y_hat)**(1/2)"
   ]
  },
  {
   "cell_type": "markdown",
   "metadata": {},
   "source": [
    "#### Model 3\n",
    "Using Polynomial LinearRegression on All Features"
   ]
  },
  {
   "cell_type": "code",
   "execution_count": 96,
   "metadata": {},
   "outputs": [
    {
     "name": "stdout",
     "output_type": "stream",
     "text": [
      "RMSE for Polynomial Model, degrees=3\n",
      "Training/In-Sample:  0.01354856259315104\n"
     ]
    }
   ],
   "source": [
    "# make the polynomial features to get a new set of features\n",
    "pf1 = PolynomialFeatures(degree=3)\n",
    "\n",
    "# fit and transform X_train_scaled\n",
    "X_train_degree2 = pf1.fit_transform(X_train)\n",
    "\n",
    "# create the model object\n",
    "lmP1 = LinearRegression(normalize=True)\n",
    "\n",
    "# fit the model to our training data. We must specify the column in y_train, \n",
    "# since we have converted it to a dataframe from a series! \n",
    "lmP1.fit(X_train_degree2, y_train.log_error)\n",
    "\n",
    "# predict train\n",
    "y_train['poly_1'] = lmP1.predict(X_train_degree2)\n",
    "\n",
    "# evaluate: rmse\n",
    "rmse_train = mean_squared_error(y_train.log_error, y_train.poly_1)**1/2\n",
    "\n",
    "print(\"RMSE for Polynomial Model, degrees=3\\nTraining/In-Sample: \", rmse_train)"
   ]
  },
  {
   "cell_type": "markdown",
   "metadata": {},
   "source": [
    "#### Model 4\n",
    "Using Polynomial with degree of 3 and selected features"
   ]
  },
  {
   "cell_type": "code",
   "execution_count": 97,
   "metadata": {},
   "outputs": [
    {
     "name": "stdout",
     "output_type": "stream",
     "text": [
      "RMSE for Polynomial Model, degrees=3\n",
      "Training/In-Sample:  0.014163436688277672\n"
     ]
    }
   ],
   "source": [
    "# make the polynomial features to get a new set of features\n",
    "pf2 = PolynomialFeatures(degree=3)\n",
    "\n",
    "# fit and transform X_train_scaled\n",
    "X_train_degree2 = pf2.fit_transform(X_train_2)\n",
    "\n",
    "# create the model object\n",
    "lmP2 = LinearRegression(normalize=True)\n",
    "\n",
    "# fit the model to our training data. We must specify the column in y_train, \n",
    "# since we have converted it to a dataframe from a series! \n",
    "lmP2.fit(X_train_degree2, y_train.log_error)\n",
    "\n",
    "# predict train\n",
    "y_train['poly_2'] = lmP2.predict(X_train_degree2)\n",
    "\n",
    "# evaluate: rmse\n",
    "rmse_train = mean_squared_error(y_train.log_error, y_train.poly_2)**1/2\n",
    "\n",
    "print(\"RMSE for Polynomial Model, degrees=3\\nTraining/In-Sample: \", rmse_train)"
   ]
  },
  {
   "cell_type": "markdown",
   "metadata": {},
   "source": [
    "## Are Models Overfit? Checking with Validate"
   ]
  },
  {
   "cell_type": "markdown",
   "metadata": {},
   "source": [
    "### Validate on Linear Regression Model with All Features"
   ]
  },
  {
   "cell_type": "code",
   "execution_count": 98,
   "metadata": {},
   "outputs": [
    {
     "data": {
      "text/plain": [
       "0.17303578072724218"
      ]
     },
     "execution_count": 98,
     "metadata": {},
     "output_type": "execute_result"
    }
   ],
   "source": [
    "y_hat = lm1.predict(X_validate)\n",
    "\n",
    "mean_squared_error(y_validate.log_error, y_hat)**(1/2)"
   ]
  },
  {
   "cell_type": "markdown",
   "metadata": {},
   "source": [
    "### Validate on Polynomial Degrees=3 Model with All Features"
   ]
  },
  {
   "cell_type": "code",
   "execution_count": 99,
   "metadata": {},
   "outputs": [
    {
     "data": {
      "text/plain": [
       "1717376152.4070976"
      ]
     },
     "execution_count": 99,
     "metadata": {},
     "output_type": "execute_result"
    }
   ],
   "source": [
    "X_validate_degree2 = pf1.transform(X_validate)\n",
    "\n",
    "# predict validate\n",
    "y_validate['poly_1'] = lmP1.predict(X_validate_degree2)\n",
    "\n",
    "# evaluate: rmse\n",
    "rmse_validate = (mean_squared_error(y_validate.log_error, y_validate.poly_1))**(1/2)\n",
    "\n",
    "rmse_validate"
   ]
  },
  {
   "cell_type": "markdown",
   "metadata": {},
   "source": [
    "### Validate on Polynomial Degrees=3 Model with Selected Features"
   ]
  },
  {
   "cell_type": "code",
   "execution_count": 100,
   "metadata": {},
   "outputs": [
    {
     "data": {
      "text/plain": [
       "0.21491611722101744"
      ]
     },
     "execution_count": 100,
     "metadata": {},
     "output_type": "execute_result"
    }
   ],
   "source": [
    "X_validate_2 = validate_scaled[['tax_value','land_tax_value','tax_amount',\n",
    "                                'bathrooms','bedrooms','full_bathrooms',\n",
    "                                'bed_plus_bath','property_sqft','year_built']]\n",
    "\n",
    "X_validate_degree2 = pf2.transform(X_validate_2)\n",
    "\n",
    "# predict validate\n",
    "y_validate['poly_2'] = lmP2.predict(X_validate_degree2)\n",
    "\n",
    "# evaluate: rmse\n",
    "rmse_validate = (mean_squared_error(y_validate.log_error, y_validate.poly_2))**(1/2)\n",
    "\n",
    "rmse_validate"
   ]
  },
  {
   "cell_type": "markdown",
   "metadata": {},
   "source": [
    "## Simulating Future, Unseen Data - Best Model on Test"
   ]
  },
  {
   "cell_type": "markdown",
   "metadata": {},
   "source": [
    "### Polynomial with Degree = 3 on Select Features"
   ]
  },
  {
   "cell_type": "code",
   "execution_count": 101,
   "metadata": {},
   "outputs": [
    {
     "data": {
      "text/plain": [
       "0.318371009183217"
      ]
     },
     "execution_count": 101,
     "metadata": {},
     "output_type": "execute_result"
    }
   ],
   "source": [
    "X_test_2 = test_scaled[['tax_value','land_tax_value','tax_amount',\n",
    "                                'bathrooms','bedrooms','full_bathrooms',\n",
    "                                'bed_plus_bath','property_sqft','year_built']]\n",
    "\n",
    "X_test_degree2 = pf2.transform(X_test_2)\n",
    "\n",
    "# predict validate\n",
    "y_test['poly_2'] = lmP2.predict(X_test_degree2)\n",
    "\n",
    "# evaluate: rmse\n",
    "rmse_validate = (mean_squared_error(y_test.log_error, y_test.poly_2))**(1/2)\n",
    "\n",
    "rmse_validate"
   ]
  },
  {
   "cell_type": "markdown",
   "metadata": {},
   "source": [
    "# Performance of Final Model Selected\n",
    "\n",
    "## PolynomialFeatures + LinearRegression, Degree = 3, 9 SelectKBest Features\n",
    "\n",
    "### Train\n",
    "RMSE: 0.01416\n",
    "\n",
    "### Validate\n",
    "RMSE: 0.21492\n",
    "\n",
    "### Test\n",
    "RMSE: 0.31837\n",
    "\n",
    "### *Baseline*\n",
    "RMSE: 0.01421\n",
    "\n",
    "# Modeling Takeaways\n",
    "- Polynomial Models appeared to outperform on train, but did worse on validate/test\n",
    "- Linear Regression did not outperform the baseline, but stayed more consistent between train and validate\n",
    "- Can different clusters be made to help the models?\n"
   ]
  },
  {
   "cell_type": "markdown",
   "metadata": {},
   "source": [
    "# Conclusions\n",
    "- With SQFT and Year Built - where there are more observations, there is more log error\n",
    "- Features did not have any linear correlations\n",
    "- Clusters were not significant, did not improve modeling\n",
    "- Linear Regression with Polynomials of 3rd Degree perfromed better than baseline on train, but not validate or test\n",
    "\n",
    "# Next Steps\n",
    "- More analysis on features to determine non-linear correlation\n",
    "- Try using SelectKBest to create a cluster\n",
    "- Need to improve models by trying different clusters/features and algorithms"
   ]
  },
  {
   "cell_type": "code",
   "execution_count": null,
   "metadata": {},
   "outputs": [],
   "source": []
  }
 ],
 "metadata": {
  "kernelspec": {
   "display_name": "Python 3",
   "language": "python",
   "name": "python3"
  },
  "language_info": {
   "codemirror_mode": {
    "name": "ipython",
    "version": 3
   },
   "file_extension": ".py",
   "mimetype": "text/x-python",
   "name": "python",
   "nbconvert_exporter": "python",
   "pygments_lexer": "ipython3",
   "version": "3.8.5"
  }
 },
 "nbformat": 4,
 "nbformat_minor": 4
}
